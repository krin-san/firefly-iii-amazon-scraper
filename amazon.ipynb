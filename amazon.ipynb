{
 "cells": [
  {
   "cell_type": "code",
   "execution_count": null,
   "id": "d0edcee7-8301-47d4-8faa-2c5661e7a314",
   "metadata": {},
   "outputs": [],
   "source": [
    "from amazon_scraper import __main__ as scraper\n",
    "from amazon_scraper.deps import Runner\n",
    "from amazon_scraper import actions\n",
    "from amazon_scraper.amazon.scraper import AmazonScraper\n",
    "from amazon_scraper.firefly.api import FireflyAPI"
   ]
  },
  {
   "cell_type": "code",
   "execution_count": null,
   "id": "b782a711",
   "metadata": {},
   "outputs": [],
   "source": [
    "# Notebook clean-up\n",
    "if \"runner\" in locals() and \"driver\" in runner.amazon.__dict__:\n",
    "    print(\"Resetting Selenium driver\")\n",
    "    runner.amazon.driver.clean_up()\n",
    "\n",
    "(_, runner) = scraper.setup(is_cli=False, args=\"--dry-run\".split())\n",
    "runner"
   ]
  },
  {
   "cell_type": "code",
   "execution_count": null,
   "id": "0b3840d7",
   "metadata": {},
   "outputs": [],
   "source": [
    "actions.fetch.run(runner)"
   ]
  },
  {
   "cell_type": "code",
   "execution_count": null,
   "id": "8d26456b",
   "metadata": {},
   "outputs": [],
   "source": []
  }
 ],
 "metadata": {
  "kernelspec": {
   "display_name": "Python 3 (ipykernel)",
   "language": "python",
   "name": "python3"
  },
  "language_info": {
   "codemirror_mode": {
    "name": "ipython",
    "version": 3
   },
   "file_extension": ".py",
   "mimetype": "text/x-python",
   "name": "python",
   "nbconvert_exporter": "python",
   "pygments_lexer": "ipython3",
   "version": "3.8.12"
  }
 },
 "nbformat": 4,
 "nbformat_minor": 5
}
